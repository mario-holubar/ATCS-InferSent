{
 "metadata": {
  "language_info": {
   "codemirror_mode": {
    "name": "ipython",
    "version": 3
   },
   "file_extension": ".py",
   "mimetype": "text/x-python",
   "name": "python",
   "nbconvert_exporter": "python",
   "pygments_lexer": "ipython3",
   "version": "3.8.8"
  },
  "orig_nbformat": 2,
  "kernelspec": {
   "name": "python388jvsc74a57bd06276edae268e0990956a034923c4fc2a40707f453f5ef35553778a3c4016a018",
   "display_name": "Python 3.8.8 64-bit ('dl2020': conda)"
  }
 },
 "nbformat": 4,
 "nbformat_minor": 2,
 "cells": [
  {
   "source": [
    "## Imports"
   ],
   "cell_type": "markdown",
   "metadata": {}
  },
  {
   "cell_type": "code",
   "execution_count": 1,
   "metadata": {},
   "outputs": [
    {
     "output_type": "stream",
     "name": "stdout",
     "text": [
      "Loading data...\n",
      "Loading vocabulary...\n"
     ]
    }
   ],
   "source": [
    "import torch\n",
    "import torchtext\n",
    "import pytorch_lightning as pl\n",
    "\n",
    "from data import TEXT, LABEL, test_data\n",
    "import models"
   ]
  },
  {
   "source": [
    "## Loading a model"
   ],
   "cell_type": "markdown",
   "metadata": {}
  },
  {
   "cell_type": "code",
   "execution_count": 2,
   "metadata": {},
   "outputs": [
    {
     "output_type": "stream",
     "name": "stdout",
     "text": [
      "Using checkpoints/pooledbilstm/version_1.ckpt\n"
     ]
    }
   ],
   "source": [
    "MODEL = None\n",
    "\n",
    "# Load a model from checkpoint and use it for inference\n",
    "def load_model(encoder, version = None):\n",
    "    # If no version specified, use the latest model\n",
    "    if version is None:\n",
    "        versions = [int(f[8:-5]) for f in os.listdir(f\"checkpoints/{encoder}\")]\n",
    "        version = versions[-1]\n",
    "\n",
    "    model_path = f\"checkpoints/{encoder}/version_{version}.ckpt\"\n",
    "    print(\"Using \" + model_path)\n",
    "    global MODEL\n",
    "    MODEL = models.Classifier.load_from_checkpoint(model_path).eval()\n",
    "\n",
    "load_model(\"pooledbilstm\")"
   ]
  },
  {
   "source": [
    "# Interactive Inference"
   ],
   "cell_type": "markdown",
   "metadata": {}
  },
  {
   "cell_type": "code",
   "execution_count": 3,
   "metadata": {},
   "outputs": [],
   "source": [
    "# Print batch of token indices as text\n",
    "def print_text(tokens):\n",
    "    if len(tokens.shape) == 1: tokens = [tokens]\n",
    "    for s in tokens:\n",
    "        print(\" \".join([TEXT.vocab.itos[t] if t > 1 else '' for t in s]))\n",
    "\n",
    "# Make entailment prediction from premise and hypothesis\n",
    "def predict(premise, hypothesis):\n",
    "    print(f\"\\x1b[0m\\\"{premise}\\\" -> \\\"{hypothesis}\\\":\")\n",
    "    premise = TEXT.process([TEXT.preprocess(premise)])\n",
    "    hypothesis = TEXT.process([TEXT.preprocess(hypothesis)])\n",
    "    MODEL.eval()\n",
    "    preds = MODEL(premise, hypothesis).softmax(1)\n",
    "    pred = preds.argmax()\n",
    "\n",
    "    color = '\\x1b[0m'\n",
    "    if pred == 0: color = '\\x1b[1;32m' # entailment\n",
    "    elif pred == 1: color = '\\x1b[1;31m' # contradiction\n",
    "    elif pred == 2: color = '\\x1b[1;33m' # neutral\n",
    "\n",
    "    print(f\"    {color}{LABEL.vocab.itos[pred]} ({preds[0, pred] * 100:.2f}%)\\n\")"
   ]
  },
  {
   "cell_type": "code",
   "execution_count": 4,
   "metadata": {},
   "outputs": [
    {
     "output_type": "stream",
     "name": "stdout",
     "text": [
      "\u001b[0m\"Alice is going for a walk.\" -> \"Alice is cleaning her room.\":\n    \u001b[1;31mcontradiction (98.93%)\n\n\u001b[0m\"Alice is going for a walk.\" -> \"Alice is wearing a hat.\":\n    \u001b[1;33mneutral (96.08%)\n\n\u001b[0m\"Alice is going for a walk.\" -> \"Alice is outside.\":\n    \u001b[1;32mentailment (81.85%)\n\n"
     ]
    }
   ],
   "source": [
    "predict(\"Alice is going for a walk.\", \"Alice is cleaning her room.\")\n",
    "predict(\"Alice is going for a walk.\", \"Alice is wearing a hat.\")\n",
    "predict(\"Alice is going for a walk.\", \"Alice is outside.\")"
   ]
  },
  {
   "source": [
    "# Analysis"
   ],
   "cell_type": "markdown",
   "metadata": {}
  },
  {
   "cell_type": "code",
   "execution_count": 20,
   "metadata": {
    "tags": []
   },
   "outputs": [
    {
     "output_type": "stream",
     "name": "stderr",
     "text": [
      "100%|██████████| 9824/9824 [02:08<00:00, 76.22it/s]\n"
     ]
    }
   ],
   "source": [
    "from tqdm import tqdm\n",
    "\n",
    "# Get predictions for each item in test set\n",
    "percentages = []\n",
    "for e in tqdm(test_data):\n",
    "    premise = TEXT.process([e.premise])\n",
    "    hypothesis = TEXT.process([e.hypothesis])\n",
    "    label = LABEL.process([e.label]).squeeze()\n",
    "    preds = MODEL(premise, hypothesis).softmax(1).squeeze()\n",
    "    percentages.append(preds[label].item())\n",
    "\n",
    "# Sort datapoints by how correct the model was\n",
    "difficulty_ranking = sorted(range(len(percentages)), key=lambda k: percentages[k])"
   ]
  },
  {
   "cell_type": "code",
   "execution_count": 47,
   "metadata": {},
   "outputs": [
    {
     "output_type": "stream",
     "name": "stdout",
     "text": [
      "A dog standing near snow looking at water .\nA cat is laying on the couch .\nCorrect: contradiction\nPrediction: contradiction (100.00%)\n\nA brown dog and a black and white dog are running over grassy hills .\none cat sleeps\nCorrect: contradiction\nPrediction: contradiction (100.00%)\n\nAn olympian leaps over an obstacle .\nAn old woman sleeps in the kitchen .\nCorrect: contradiction\nPrediction: contradiction (100.00%)\n\nA child dressed in purple clothing and a hat runs in splashing water while a man and a small boy walk nearby .\na cat sleeps on the couch\nCorrect: contradiction\nPrediction: contradiction (100.00%)\n\nA black dog is digging in the snow .\nA cat running down a beach\nCorrect: contradiction\nPrediction: contradiction (100.00%)\n\nYoung child standing on a snow pile in a city .\nthe man is at home sleeping\nCorrect: contradiction\nPrediction: contradiction (100.00%)\n\nWoman running in a park while listening to music .\nA man cooking at home .\nCorrect: contradiction\nPrediction: contradiction (100.00%)\n\nA furry dog is jumping over a hurdle .\nA cat sleeps in the window .\nCorrect: contradiction\nPrediction: contradiction (100.00%)\n\nThe man in white is playing basketball against the man in blue .\nA woman wearing red plays hockey .\nCorrect: contradiction\nPrediction: contradiction (99.99%)\n\nA group of mountain climbers rests at the summit .\nA scuba diver runs out of air .\nCorrect: contradiction\nPrediction: contradiction (99.99%)\n\n"
     ]
    }
   ],
   "source": [
    "# Easiest examples\n",
    "for i in list(reversed(difficulty_ranking))[:10]:\n",
    "    premise = TEXT.process([test_data[i].premise])\n",
    "    hypothesis = TEXT.process([test_data[i].hypothesis])\n",
    "    label = LABEL.process([test_data[i].label]).squeeze()\n",
    "    preds = MODEL(premise, hypothesis).softmax(1).squeeze()\n",
    "    pred = preds.argmax()\n",
    "    print_text(premise)\n",
    "    print_text(hypothesis)\n",
    "    print(f\"Correct: {test_data[i].label}\")\n",
    "    print(f\"Prediction: {LABEL.vocab.itos[pred]} ({preds[pred] * 100:.2f}%)\\n\""
   ]
  },
  {
   "cell_type": "code",
   "execution_count": 48,
   "metadata": {},
   "outputs": [
    {
     "output_type": "stream",
     "name": "stdout",
     "text": [
      "Several women are playing volleyball .\nThis does n't look like soccer\nCorrect: entailment\nPrediction: contradiction (99.94%)\n\nA man wearing a welding mask working on a duct .\nThe man is working underneath a vehicle .\nCorrect: contradiction\nPrediction: entailment (99.14%)\n\nAn older gentleman looks at the camera while he is building a deck .\nAn older gentleman in overalls looks at the camera while he is building a stained red deck in front of a house .\nCorrect: entailment\nPrediction: neutral (98.63%)\n\nA teenage girl in a crowd of people looking up at something .\nno one saw the rainbow in the sky\nCorrect: neutral\nPrediction: contradiction (99.92%)\n\nA group of girls jumping over another girl who is laying on the floor .\nA gorup of girl is laying down .\nCorrect: contradiction\nPrediction: entailment (99.12%)\n\nPeople are riding bicycles in the street , and they are all wearing helmets .\nA group of friends are grabbing their bikes , getting ready for the morning bike ride\nCorrect: contradiction\nPrediction: neutral (99.16%)\n\nTwo women , standing at a fence , are each talking on their cellphones , while two men sitting on the opposite side of the fence are having a conversation .\nFour people are talking to each other outside .\nCorrect: contradiction\nPrediction: entailment (96.54%)\n\nFive people standing under a tent - like structure celebrating the 25th  Longboard Classic .\nThere are two people .\nCorrect: contradiction\nPrediction: entailment (99.64%)\n\nIn a small village a Man sets sail along the  .\nA man hunting crocodiles\nCorrect: neutral\nPrediction: contradiction (99.78%)\n\nTwo woman , one wearing a blue striped shirt and the other wearing a flowered shirt , are riding horses .\nWomen are outside at a riding competition where they watch men compete .\nCorrect: contradiction\nPrediction: neutral (98.01%)\n\n"
     ]
    }
   ],
   "source": [
    "# Most difficult examples\n",
    "for i in difficulty_ranking[:10]:\n",
    "    premise = TEXT.process([test_data[i].premise])\n",
    "    hypothesis = TEXT.process([test_data[i].hypothesis])\n",
    "    label = LABEL.process([test_data[i].label]).squeeze()\n",
    "    preds = MODEL(premise, hypothesis).softmax(1).squeeze()\n",
    "    pred = preds.argmax()\n",
    "    print_text(premise)\n",
    "    print_text(hypothesis)\n",
    "    print(f\"Correct: {test_data[i].label}\")\n",
    "    print(f\"Prediction: {LABEL.vocab.itos[pred]} ({preds[pred] * 100:.2f}%)\\n\")"
   ]
  },
  {
   "cell_type": "code",
   "execution_count": null,
   "metadata": {},
   "outputs": [],
   "source": []
  }
 ]
}
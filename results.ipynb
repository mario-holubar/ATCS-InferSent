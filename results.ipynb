{
 "cells": [
  {
   "cell_type": "markdown",
   "metadata": {},
   "source": [
    "## Imports"
   ]
  },
  {
   "cell_type": "code",
   "execution_count": 4,
   "metadata": {},
   "outputs": [],
   "source": [
    "import torch\n",
    "import torchtext\n",
    "import pytorch_lightning as pl\n",
    "import os\n",
    "\n",
    "from data import TEXT, LABEL, test_data\n",
    "import models"
   ]
  },
  {
   "cell_type": "markdown",
   "metadata": {},
   "source": [
    "## Loading a model"
   ]
  },
  {
   "cell_type": "code",
   "execution_count": 5,
   "metadata": {},
   "outputs": [
    {
     "name": "stdout",
     "output_type": "stream",
     "text": [
      "Using checkpoints/pooledbilstm/version_2.ckpt\n"
     ]
    }
   ],
   "source": [
    "MODEL = None\n",
    "\n",
    "# Load a model from checkpoint and use it for inference\n",
    "def load_model(encoder, version = None):\n",
    "    # If no version specified, use the latest model\n",
    "    if version is None:\n",
    "        versions = [int(f[8:-5]) for f in os.listdir(f\"checkpoints/{encoder}\")]\n",
    "        version = versions[-1]\n",
    "\n",
    "    model_path = f\"checkpoints/{encoder}/version_{version}.ckpt\"\n",
    "    print(\"Using \" + model_path)\n",
    "    global MODEL\n",
    "    MODEL = models.Classifier.load_from_checkpoint(model_path).eval()\n",
    "\n",
    "load_model(\"pooledbilstm\", 2) # pooledbilstm/version_2.ckpt uses embedding_dim = 4096"
   ]
  },
  {
   "cell_type": "markdown",
   "metadata": {},
   "source": [
    "# Results"
   ]
  },
  {
   "attachments": {
    "results.png": {
     "image/png": "[encoded data removed]"
    }
   },
   "cell_type": "markdown",
   "metadata": {},
   "source": [
    "![results.png](attachment:results.png)"
   ]
  },
  {
   "cell_type": "markdown",
   "metadata": {},
   "source": [
    "# Interactive Inference"
   ]
  },
  {
   "cell_type": "code",
   "execution_count": 6,
   "metadata": {},
   "outputs": [],
   "source": [
    "# Print batch of token indices as text\n",
    "def print_text(tokens):\n",
    "    if len(tokens.shape) == 1: tokens = [tokens]\n",
    "    for s in tokens:\n",
    "        print(\" \".join([TEXT.vocab.itos[t] if t > 1 else '' for t in s]))\n",
    "\n",
    "# Make entailment prediction from premise and hypothesis\n",
    "def predict(premise, hypothesis):\n",
    "    print(f\"\\x1b[0m\\\"{premise}\\\" -> \\\"{hypothesis}\\\":\")\n",
    "    premise = TEXT.process([TEXT.preprocess(premise)])\n",
    "    hypothesis = TEXT.process([TEXT.preprocess(hypothesis)])\n",
    "    MODEL.eval()\n",
    "    preds = MODEL(premise, hypothesis).softmax(1)\n",
    "    pred = preds.argmax()\n",
    "\n",
    "    color = '\\x1b[0m'\n",
    "    if pred == 0: color = '\\x1b[1;32m' # entailment\n",
    "    elif pred == 1: color = '\\x1b[1;31m' # contradiction\n",
    "    elif pred == 2: color = '\\x1b[1;33m' # neutral\n",
    "\n",
    "    print(f\"    {color}{LABEL.vocab.itos[pred]} ({preds[0, pred] * 100:.2f}%)\\n\")"
   ]
  },
  {
   "cell_type": "code",
   "execution_count": 7,
   "metadata": {},
   "outputs": [
    {
     "name": "stdout",
     "output_type": "stream",
     "text": [
      "\u001b[0m\"Alice is going for a walk.\" -> \"Alice is cleaning her room.\":\n",
      "    \u001b[1;31mcontradiction (99.54%)\n",
      "\n",
      "\u001b[0m\"Alice is going for a walk.\" -> \"Alice is wearing a hat.\":\n",
      "    \u001b[1;33mneutral (97.82%)\n",
      "\n",
      "\u001b[0m\"Alice is going for a walk.\" -> \"Alice is outside.\":\n",
      "    \u001b[1;32mentailment (80.23%)\n",
      "\n"
     ]
    }
   ],
   "source": [
    "predict(\"Alice is going for a walk.\", \"Alice is cleaning her room.\")\n",
    "predict(\"Alice is going for a walk.\", \"Alice is wearing a hat.\")\n",
    "predict(\"Alice is going for a walk.\", \"Alice is outside.\")"
   ]
  },
  {
   "cell_type": "markdown",
   "metadata": {},
   "source": [
    "# Analysis"
   ]
  },
  {
   "cell_type": "markdown",
   "metadata": {},
   "source": [
    "## What does the model encode?"
   ]
  },
  {
   "cell_type": "code",
   "execution_count": 50,
   "metadata": {},
   "outputs": [],
   "source": [
    "import sklearn\n",
    "import numpy as np\n",
    "\n",
    "def encode(sentence):\n",
    "    sentence = TEXT.process([TEXT.preprocess(sentence)])\n",
    "    return MODEL.encoder(sentence).detach().squeeze()\n",
    "\n",
    "def cosine_similarity(a, b):\n",
    "    return (a.dot(b) / (np.linalg.norm(a) * np.linalg.norm(b))).item()"
   ]
  },
  {
   "cell_type": "markdown",
   "metadata": {},
   "source": [
    "#### The similarity of sentence representations does not give clear insight into entailment / contradiction:"
   ]
  },
  {
   "cell_type": "code",
   "execution_count": 93,
   "metadata": {},
   "outputs": [
    {
     "name": "stdout",
     "output_type": "stream",
     "text": [
      "0.8183154463768005\n",
      "0.9071491360664368\n"
     ]
    }
   ],
   "source": [
    "print(cosine_similarity(encode(\"Alice is going for a walk in the park.\"), encode(\"Alice is going for a walk.\")))\n",
    "print(cosine_similarity(encode(\"Alice is going for a walk in the park.\"), encode(\"Alice is not going for a walk in the park.\")))"
   ]
  },
  {
   "cell_type": "code",
   "execution_count": 92,
   "metadata": {},
   "outputs": [
    {
     "name": "stdout",
     "output_type": "stream",
     "text": [
      "0.8848890662193298\n",
      "0.8844414949417114\n"
     ]
    }
   ],
   "source": [
    "print(cosine_similarity(encode(\"Alice and Bob are friends.\"), encode(\"Alice and Bob are pals.\")))\n",
    "print(cosine_similarity(encode(\"Alice and Bob are friends.\"), encode(\"Cindy and Tom are friends.\")))"
   ]
  },
  {
   "cell_type": "markdown",
   "metadata": {},
   "source": [
    "#### The sentence embedding changes significantly if the closing period is omitted, even though the meaning should be the same. This might have to do with the dataset containing both full sentences and sentence fragments."
   ]
  },
  {
   "cell_type": "code",
   "execution_count": 97,
   "metadata": {},
   "outputs": [
    {
     "name": "stdout",
     "output_type": "stream",
     "text": [
      "0.8698563575744629\n"
     ]
    }
   ],
   "source": [
    "print(cosine_similarity(encode(\"The couple danced.\"), encode(\"The couple danced\")))"
   ]
  },
  {
   "cell_type": "markdown",
   "metadata": {},
   "source": [
    "## What is difficult for the model?"
   ]
  },
  {
   "cell_type": "code",
   "execution_count": 8,
   "metadata": {
    "tags": []
   },
   "outputs": [
    {
     "name": "stderr",
     "output_type": "stream",
     "text": [
      "100%|██████████████████████████████████████████████████████████████████████████████| 9824/9824 [24:00<00:00,  6.82it/s]\n"
     ]
    }
   ],
   "source": [
    "from tqdm import tqdm\n",
    "\n",
    "# Get predictions for each item in test set\n",
    "percentages = []\n",
    "for e in tqdm(test_data):\n",
    "    premise = TEXT.process([e.premise])\n",
    "    hypothesis = TEXT.process([e.hypothesis])\n",
    "    label = LABEL.process([e.label]).squeeze()\n",
    "    preds = MODEL(premise, hypothesis).softmax(1).squeeze()\n",
    "    percentages.append(preds[label].item())\n",
    "\n",
    "# Sort datapoints by how correct the model was\n",
    "difficulty_ranking = sorted(range(len(percentages)), key=lambda k: percentages[k])"
   ]
  },
  {
   "cell_type": "markdown",
   "metadata": {},
   "source": [
    "#### The examples the model is most sure about are all contradictions. It seems to biased towards them."
   ]
  },
  {
   "cell_type": "code",
   "execution_count": 11,
   "metadata": {},
   "outputs": [
    {
     "name": "stdout",
     "output_type": "stream",
     "text": [
      "A brown dog and a black and white dog are running over grassy hills .\n",
      "one cat sleeps\n",
      "Correct: contradiction\n",
      "Prediction: contradiction (100.00%)\n",
      "\n",
      "A child dressed in purple clothing and a hat runs in splashing water while a man and a small boy walk nearby .\n",
      "a cat sleeps on the couch\n",
      "Correct: contradiction\n",
      "Prediction: contradiction (100.00%)\n",
      "\n",
      "A dog standing near snow looking at water .\n",
      "A cat is laying on the couch .\n",
      "Correct: contradiction\n",
      "Prediction: contradiction (100.00%)\n",
      "\n",
      "Woman running in a park while listening to music .\n",
      "A man cooking at home .\n",
      "Correct: contradiction\n",
      "Prediction: contradiction (100.00%)\n",
      "\n",
      "A group of men are riding a moving walkway .\n",
      "A group of women are baking in a kitchen .\n",
      "Correct: contradiction\n",
      "Prediction: contradiction (100.00%)\n",
      "\n",
      "A furry dog is jumping over a hurdle .\n",
      "A cat sleeps in the window .\n",
      "Correct: contradiction\n",
      "Prediction: contradiction (100.00%)\n",
      "\n",
      "The man in white is playing basketball against the man in blue .\n",
      "A woman wearing red plays hockey .\n",
      "Correct: contradiction\n",
      "Prediction: contradiction (100.00%)\n",
      "\n",
      "A black dog is digging in the snow .\n",
      "A cat running down a beach\n",
      "Correct: contradiction\n",
      "Prediction: contradiction (100.00%)\n",
      "\n",
      "A man wearing red ski pants , a black jacket , and a white helmet is skiing down a mountain .\n",
      "The man is alone sleeping in his bedroom on the moon .\n",
      "Correct: contradiction\n",
      "Prediction: contradiction (100.00%)\n",
      "\n",
      "Young child standing on a snow pile in a city .\n",
      "the man is at home sleeping\n",
      "Correct: contradiction\n",
      "Prediction: contradiction (100.00%)\n",
      "\n"
     ]
    }
   ],
   "source": [
    "# Easiest examples\n",
    "for i in list(reversed(difficulty_ranking))[:10]:\n",
    "    premise = TEXT.process([test_data[i].premise])\n",
    "    hypothesis = TEXT.process([test_data[i].hypothesis])\n",
    "    label = LABEL.process([test_data[i].label]).squeeze()\n",
    "    preds = MODEL(premise, hypothesis).softmax(1).squeeze()\n",
    "    pred = preds.argmax()\n",
    "    print_text(premise)\n",
    "    print_text(hypothesis)\n",
    "    print(f\"Correct: {test_data[i].label}\")\n",
    "    print(f\"Prediction: {LABEL.vocab.itos[pred]} ({preds[pred] * 100:.2f}%)\\n\")"
   ]
  },
  {
   "cell_type": "markdown",
   "metadata": {},
   "source": [
    "#### As far as points of failure are concerned, there is more variety:"
   ]
  },
  {
   "cell_type": "code",
   "execution_count": 12,
   "metadata": {},
   "outputs": [
    {
     "name": "stdout",
     "output_type": "stream",
     "text": [
      "Several women are playing volleyball .\n",
      "This does n't look like soccer\n",
      "Correct: entailment\n",
      "Prediction: contradiction (99.94%)\n",
      "\n",
      "two women in lingerie with green feathers around waist\n",
      "Two women do n't wear much clothing .\n",
      "Correct: entailment\n",
      "Prediction: contradiction (99.34%)\n",
      "\n",
      "An older gentleman looks at the camera while he is building a deck .\n",
      "An older gentleman in overalls looks at the camera while he is building a stained red deck in front of a house .\n",
      "Correct: entailment\n",
      "Prediction: neutral (97.57%)\n",
      "\n",
      "A young girl running on grass\n",
      "The girl is not standing still .\n",
      "Correct: entailment\n",
      "Prediction: contradiction (98.09%)\n",
      "\n",
      "In a small village a Man sets sail along the  .\n",
      "A man hunting crocodiles\n",
      "Correct: neutral\n",
      "Prediction: contradiction (99.87%)\n",
      "\n",
      "Three children in a black dog kennel .\n",
      "There are dogs in the kennel .\n",
      "Correct: contradiction\n",
      "Prediction: entailment (97.56%)\n",
      "\n",
      "A performer plays an instrument for the audience .\n",
      "The instrument plays a performer for an audience .\n",
      "Correct: contradiction\n",
      "Prediction: entailment (98.00%)\n",
      "\n",
      "A cowboy is showing off his mule next to a horse hauling trailer .\n",
      "A man is showing off his prize winning mule .\n",
      "Correct: entailment\n",
      "Prediction: neutral (98.98%)\n",
      "\n",
      "A Man is eating food next to a child on a bench .\n",
      "Man eating child .\n",
      "Correct: contradiction\n",
      "Prediction: entailment (98.36%)\n",
      "\n",
      "oh  these suckers ca nt catch me .\n",
      "Dog running down the street .\n",
      "Correct: neutral\n",
      "Prediction: contradiction (99.72%)\n",
      "\n"
     ]
    }
   ],
   "source": [
    "# Most difficult examples\n",
    "for i in difficulty_ranking[:10]:\n",
    "    premise = TEXT.process([test_data[i].premise])\n",
    "    hypothesis = TEXT.process([test_data[i].hypothesis])\n",
    "    label = LABEL.process([test_data[i].label]).squeeze()\n",
    "    preds = MODEL(premise, hypothesis).softmax(1).squeeze()\n",
    "    pred = preds.argmax()\n",
    "    print_text(premise)\n",
    "    print_text(hypothesis)\n",
    "    print(f\"Correct: {test_data[i].label}\")\n",
    "    print(f\"Prediction: {LABEL.vocab.itos[pred]} ({preds[pred] * 100:.2f}%)\\n\")"
   ]
  },
  {
   "cell_type": "markdown",
   "metadata": {},
   "source": [
    "#### The model seems to struggle with negation:"
   ]
  },
  {
   "cell_type": "code",
   "execution_count": 85,
   "metadata": {},
   "outputs": [
    {
     "name": "stdout",
     "output_type": "stream",
     "text": [
      "\u001b[0m\"A young girl running on grass\" -> \"The girl is not standing still.\":\n",
      "    \u001b[1;31mcontradiction (98.09%)\n",
      "\n",
      "\u001b[0m\"A young girl running on grass\" -> \"The girl is standing still.\":\n",
      "    \u001b[1;31mcontradiction (99.86%)\n",
      "\n"
     ]
    }
   ],
   "source": [
    "predict(\"A young girl running on grass\", \"The girl is not standing still.\")\n",
    "predict(\"A young girl running on grass\", \"The girl is standing still.\")"
   ]
  },
  {
   "cell_type": "markdown",
   "metadata": {},
   "source": [
    "#### Puncuation affects the result much more than it should:"
   ]
  },
  {
   "cell_type": "code",
   "execution_count": 89,
   "metadata": {},
   "outputs": [
    {
     "name": "stdout",
     "output_type": "stream",
     "text": [
      "\u001b[0m\"A young girl is running\" -> \"The girl is not standing still.\":\n",
      "    \u001b[1;31mcontradiction (98.33%)\n",
      "\n",
      "\u001b[0m\"A young girl is running.\" -> \"The girl is not standing still.\":\n",
      "    \u001b[1;32mentailment (47.66%)\n",
      "\n"
     ]
    }
   ],
   "source": [
    "predict(\"A young girl is running\", \"The girl is not standing still.\")\n",
    "predict(\"A young girl is running.\", \"The girl is not standing still.\")"
   ]
  },
  {
   "cell_type": "markdown",
   "metadata": {},
   "source": [
    "#### It also gets confused by two-way relationships:"
   ]
  },
  {
   "cell_type": "code",
   "execution_count": 83,
   "metadata": {},
   "outputs": [
    {
     "name": "stdout",
     "output_type": "stream",
     "text": [
      "\u001b[0m\"A performer plays an instrument for the audience.\" -> \"The instrument plays a performer for an audience.\":\n",
      "    \u001b[1;32mentailment (98.00%)\n",
      "\n",
      "\u001b[0m\"Alice is standing next to Bob.\" -> \"Bob is standing next to Alice.\":\n",
      "    \u001b[1;31mcontradiction (63.67%)\n",
      "\n"
     ]
    }
   ],
   "source": [
    "predict(\"A performer plays an instrument for the audience.\", \"The instrument plays a performer for an audience.\")\n",
    "predict(\"Alice is standing next to Bob.\", \"Bob is standing next to Alice.\")"
   ]
  },
  {
   "cell_type": "code",
   "execution_count": null,
   "metadata": {},
   "outputs": [],
   "source": []
  }
 ],
 "metadata": {
  "kernelspec": {
   "display_name": "Python [conda env:dl2020]",
   "language": "python",
   "name": "conda-env-dl2020-py"
  },
  "language_info": {
   "codemirror_mode": {
    "name": "ipython",
    "version": 3
   },
   "file_extension": ".py",
   "mimetype": "text/x-python",
   "name": "python",
   "nbconvert_exporter": "python",
   "pygments_lexer": "ipython3",
   "version": "3.8.8"
  }
 },
 "nbformat": 4,
 "nbformat_minor": 2
}
